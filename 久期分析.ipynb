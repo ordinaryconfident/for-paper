{
 "cells": [
  {
   "cell_type": "code",
   "execution_count": 2,
   "metadata": {},
   "outputs": [],
   "source": [
    "import matplotlib.pyplot as plt"
   ]
  },
  {
   "cell_type": "code",
   "execution_count": 3,
   "metadata": {},
   "outputs": [],
   "source": [
    "import numpy as np"
   ]
  },
  {
   "cell_type": "markdown",
   "metadata": {},
   "source": [
    "探究5%票面利息与10年的一支债券的久期变化"
   ]
  },
  {
   "cell_type": "code",
   "execution_count": 25,
   "metadata": {},
   "outputs": [],
   "source": [
    "y=np.linspace(0.06,0.12,30)"
   ]
  },
  {
   "cell_type": "code",
   "execution_count": 26,
   "metadata": {},
   "outputs": [],
   "source": [
    "p=9/y*(1-1/(1+y/2)**10)+100/(1+y/2)**10"
   ]
  },
  {
   "cell_type": "code",
   "execution_count": 27,
   "metadata": {},
   "outputs": [
    {
     "data": {
      "image/png": "[encoded data removed]",
      "text/plain": [
       "<Figure size 432x288 with 1 Axes>"
      ]
     },
     "metadata": {
      "needs_background": "light"
     },
     "output_type": "display_data"
    }
   ],
   "source": [
    "plt.scatter(y,p,ls=':')\n",
    "plt.show()"
   ]
  },
  {
   "cell_type": "code",
   "execution_count": 28,
   "metadata": {},
   "outputs": [
    {
     "data": {
      "text/plain": [
       "array([112.79530426, 111.85022313, 110.91487587, 109.98914979,\n",
       "       109.0729336 , 108.16611746, 107.26859289, 106.38025281,\n",
       "       105.50099146, 104.63070445, 103.76928869, 102.91664238,\n",
       "       102.07266501, 101.23725735, 100.41032138,  99.59176035,\n",
       "        98.78147869,  97.97938204,  97.18537722,  96.39937221,\n",
       "        95.62127614,  94.85099929,  94.08845302,  93.33354982,\n",
       "        92.58620327,  91.846328  ,  91.11383972,  90.38865518,\n",
       "        89.67069215,  88.95986942])"
      ]
     },
     "execution_count": 28,
     "metadata": {},
     "output_type": "execute_result"
    }
   ],
   "source": [
    "p  "
   ]
  },
  {
   "cell_type": "code",
   "execution_count": 47,
   "metadata": {},
   "outputs": [],
   "source": [
    "from sklearn.linear_model import LinearRegression"
   ]
  },
  {
   "cell_type": "code",
   "execution_count": 50,
   "metadata": {},
   "outputs": [],
   "source": [
    "y=y.reshape(-1,1) "
   ]
  },
  {
   "cell_type": "code",
   "execution_count": 51,
   "metadata": {},
   "outputs": [
    {
     "data": {
      "text/plain": [
       "array([[0.06      ],\n",
       "       [0.06206897],\n",
       "       [0.06413793],\n",
       "       [0.0662069 ],\n",
       "       [0.06827586],\n",
       "       [0.07034483],\n",
       "       [0.07241379],\n",
       "       [0.07448276],\n",
       "       [0.07655172],\n",
       "       [0.07862069],\n",
       "       [0.08068966],\n",
       "       [0.08275862],\n",
       "       [0.08482759],\n",
       "       [0.08689655],\n",
       "       [0.08896552],\n",
       "       [0.09103448],\n",
       "       [0.09310345],\n",
       "       [0.09517241],\n",
       "       [0.09724138],\n",
       "       [0.09931034],\n",
       "       [0.10137931],\n",
       "       [0.10344828],\n",
       "       [0.10551724],\n",
       "       [0.10758621],\n",
       "       [0.10965517],\n",
       "       [0.11172414],\n",
       "       [0.1137931 ],\n",
       "       [0.11586207],\n",
       "       [0.11793103],\n",
       "       [0.12      ]])"
      ]
     },
     "execution_count": 51,
     "metadata": {},
     "output_type": "execute_result"
    }
   ],
   "source": [
    "y"
   ]
  },
  {
   "cell_type": "code",
   "execution_count": 52,
   "metadata": {},
   "outputs": [],
   "source": [
    "p=p.reshape(-1,1)"
   ]
  },
  {
   "cell_type": "code",
   "execution_count": 54,
   "metadata": {},
   "outputs": [
    {
     "data": {
      "text/plain": [
       "array([[112.79530426],\n",
       "       [111.85022313],\n",
       "       [110.91487587],\n",
       "       [109.98914979],\n",
       "       [109.0729336 ],\n",
       "       [108.16611746],\n",
       "       [107.26859289],\n",
       "       [106.38025281],\n",
       "       [105.50099146],\n",
       "       [104.63070445],\n",
       "       [103.76928869],\n",
       "       [102.91664238],\n",
       "       [102.07266501],\n",
       "       [101.23725735],\n",
       "       [100.41032138],\n",
       "       [ 99.59176035],\n",
       "       [ 98.78147869],\n",
       "       [ 97.97938204],\n",
       "       [ 97.18537722],\n",
       "       [ 96.39937221],\n",
       "       [ 95.62127614],\n",
       "       [ 94.85099929],\n",
       "       [ 94.08845302],\n",
       "       [ 93.33354982],\n",
       "       [ 92.58620327],\n",
       "       [ 91.846328  ],\n",
       "       [ 91.11383972],\n",
       "       [ 90.38865518],\n",
       "       [ 89.67069215],\n",
       "       [ 88.95986942]])"
      ]
     },
     "execution_count": 54,
     "metadata": {},
     "output_type": "execute_result"
    }
   ],
   "source": [
    "p "
   ]
  },
  {
   "cell_type": "code",
   "execution_count": 53,
   "metadata": {},
   "outputs": [
    {
     "name": "stdout",
     "output_type": "stream",
     "text": [
      "[[-396.67381054]] [136.01306152]\n"
     ]
    }
   ],
   "source": [
    "reg=LinearRegression().fit(y,p)\n",
    "a,b=reg.coef_,reg.intercept_\n",
    "print(a,b)"
   ]
  },
  {
   "cell_type": "code",
   "execution_count": 62,
   "metadata": {},
   "outputs": [],
   "source": [
    "p_predict=a*y+b"
   ]
  },
  {
   "cell_type": "code",
   "execution_count": 64,
   "metadata": {},
   "outputs": [
    {
     "data": {
      "image/png": "[encoded data removed]",
      "text/plain": [
       "<Figure size 432x288 with 1 Axes>"
      ]
     },
     "metadata": {
      "needs_background": "light"
     },
     "output_type": "display_data"
    }
   ],
   "source": [
    "plt.plot(y,p_predict)\n",
    "plt.plot(y,p)\n",
    "plt.show()"
   ]
  },
  {
   "cell_type": "code",
   "execution_count": 66,
   "metadata": {},
   "outputs": [
    {
     "data": {
      "image/png": "[encoded data removed]",
      "text/plain": [
       "<Figure size 432x288 with 1 Axes>"
      ]
     },
     "metadata": {
      "needs_background": "light"
     },
     "output_type": "display_data"
    }
   ],
   "source": [
    "y1=np.linspace(0.06,0.12,30)\n",
    "p1=6/y1*(1-1/(1+y1/2)**50)+100/(1+y1/2)**50\n",
    "plt.scatter(y1,p1,ls=':')\n",
    "plt.show()"
   ]
  },
  {
   "cell_type": "code",
   "execution_count": 67,
   "metadata": {},
   "outputs": [],
   "source": [
    "y1=y1.reshape(-1,1)\n",
    "p1=p1.reshape(-1,1)"
   ]
  },
  {
   "cell_type": "code",
   "execution_count": 68,
   "metadata": {},
   "outputs": [],
   "source": [
    "p_linear=a*y1+b"
   ]
  },
  {
   "cell_type": "code",
   "execution_count": 69,
   "metadata": {},
   "outputs": [
    {
     "data": {
      "text/plain": [
       "array([[112.21263288],\n",
       "       [111.39192845],\n",
       "       [110.57122401],\n",
       "       [109.75051958],\n",
       "       [108.92981514],\n",
       "       [108.10911071],\n",
       "       [107.28840627],\n",
       "       [106.46770183],\n",
       "       [105.6469974 ],\n",
       "       [104.82629296],\n",
       "       [104.00558853],\n",
       "       [103.18488409],\n",
       "       [102.36417966],\n",
       "       [101.54347522],\n",
       "       [100.72277078],\n",
       "       [ 99.90206635],\n",
       "       [ 99.08136191],\n",
       "       [ 98.26065748],\n",
       "       [ 97.43995304],\n",
       "       [ 96.61924861],\n",
       "       [ 95.79854417],\n",
       "       [ 94.97783974],\n",
       "       [ 94.1571353 ],\n",
       "       [ 93.33643086],\n",
       "       [ 92.51572643],\n",
       "       [ 91.69502199],\n",
       "       [ 90.87431756],\n",
       "       [ 90.05361312],\n",
       "       [ 89.23290869],\n",
       "       [ 88.41220425]])"
      ]
     },
     "execution_count": 69,
     "metadata": {},
     "output_type": "execute_result"
    }
   ],
   "source": [
    "p_linear"
   ]
  },
  {
   "cell_type": "code",
   "execution_count": 70,
   "metadata": {},
   "outputs": [
    {
     "data": {
      "image/png": "[encoded data removed]",
      "text/plain": [
       "<Figure size 432x288 with 1 Axes>"
      ]
     },
     "metadata": {
      "needs_background": "light"
     },
     "output_type": "display_data"
    }
   ],
   "source": [
    "plt.plot(y1,p_linear)\n",
    "plt.plot(y1,p1)\n",
    "plt.show()"
   ]
  },
  {
   "cell_type": "markdown",
   "metadata": {},
   "source": [
    "数学函数解释久期分析"
   ]
  },
  {
   "cell_type": "code",
   "execution_count": 65,
   "metadata": {},
   "outputs": [],
   "source": [
    "import sympy as sp\n",
    "import numpy as np"
   ]
  },
  {
   "cell_type": "code",
   "execution_count": 71,
   "metadata": {},
   "outputs": [],
   "source": [
    "c,r,M,n=sp.symbols('c r M n')\n",
    "z=c/r*(1-1/(1+r/2)**(2*n))+M/(1+r/2)**(2*n)"
   ]
  },
  {
   "cell_type": "code",
   "execution_count": 73,
   "metadata": {},
   "outputs": [],
   "source": [
    "zc=sp.diff(z,c)"
   ]
  },
  {
   "cell_type": "code",
   "execution_count": 74,
   "metadata": {},
   "outputs": [
    {
     "name": "stdout",
     "output_type": "stream",
     "text": [
      "(1 - (r/2 + 1)**(-2*n))/r\n"
     ]
    }
   ],
   "source": [
    "print(zc)"
   ]
  },
  {
   "cell_type": "code",
   "execution_count": 75,
   "metadata": {},
   "outputs": [],
   "source": [
    "zr=sp.diff(z,r)"
   ]
  },
  {
   "cell_type": "code",
   "execution_count": 76,
   "metadata": {},
   "outputs": [
    {
     "name": "stdout",
     "output_type": "stream",
     "text": [
      "-M*n*(r/2 + 1)**(-2*n)/(r/2 + 1) + c*n*(r/2 + 1)**(-2*n)/(r*(r/2 + 1)) - c*(1 - (r/2 + 1)**(-2*n))/r**2\n"
     ]
    }
   ],
   "source": [
    "print(zr)"
   ]
  },
  {
   "cell_type": "code",
   "execution_count": 77,
   "metadata": {},
   "outputs": [],
   "source": [
    "zM=sp.diff(z,M)"
   ]
  },
  {
   "cell_type": "code",
   "execution_count": 78,
   "metadata": {},
   "outputs": [
    {
     "name": "stdout",
     "output_type": "stream",
     "text": [
      "(r/2 + 1)**(-2*n)\n"
     ]
    }
   ],
   "source": [
    "print(zM)"
   ]
  },
  {
   "cell_type": "code",
   "execution_count": 79,
   "metadata": {},
   "outputs": [],
   "source": [
    "zn=sp.diff(z,n)"
   ]
  },
  {
   "cell_type": "code",
   "execution_count": 80,
   "metadata": {},
   "outputs": [
    {
     "name": "stdout",
     "output_type": "stream",
     "text": [
      "-2*M*(r/2 + 1)**(-2*n)*log(r/2 + 1) + 2*c*(r/2 + 1)**(-2*n)*log(r/2 + 1)/r\n"
     ]
    }
   ],
   "source": [
    "print(zn)"
   ]
  },
  {
   "cell_type": "code",
   "execution_count": 87,
   "metadata": {},
   "outputs": [
    {
     "data": {
      "image/png": "[encoded data removed]",
      "text/plain": [
       "<Figure size 432x288 with 1 Axes>"
      ]
     },
     "metadata": {
      "needs_background": "light"
     },
     "output_type": "display_data"
    }
   ],
   "source": [
    "M=100\n",
    "n=5\n",
    "c=6\n",
    "r=np.linspace(0.06,0.12,30)\n",
    "price=-M*n*(r/2 + 1)**(-2*n)/(r/2 + 1) + c*n*(r/2 + 1)**(-2*n)/(r*(r/2 + 1)) - c*(1 - (r/2 + 1)**(-2*n))/r**2\n",
    "plt.plot(r,price)\n",
    "plt.show()"
   ]
  },
  {
   "cell_type": "code",
   "execution_count": 114,
   "metadata": {},
   "outputs": [
    {
     "data": {
      "text/plain": [
       "-7.329141247355872"
      ]
     },
     "execution_count": 114,
     "metadata": {},
     "output_type": "execute_result"
    }
   ],
   "source": [
    "M=100\n",
    "n=5\n",
    "c=6\n",
    "r=0.09\n",
    "pricechange=-M*n*(r/2 + 1)**(-2*n)/(r/2 + 1) + c*n*(r/2 + 1)**(-2*n)/(r*(r/2 + 1)) - c*(1 - (r/2 + 1)**(-2*n))/r**2\n",
    "pricechange*0.02             "
   ]
  },
  {
   "cell_type": "code",
   "execution_count": 97,
   "metadata": {},
   "outputs": [
    {
     "data": {
      "text/plain": [
       "92.08728182288984"
      ]
     },
     "execution_count": 97,
     "metadata": {},
     "output_type": "execute_result"
    }
   ],
   "source": [
    "100-7.9127181771101585  "
   ]
  },
  {
   "cell_type": "code",
   "execution_count": 95,
   "metadata": {},
   "outputs": [
    {
     "data": {
      "text/plain": [
       "88.13092273433476"
      ]
     },
     "execution_count": 95,
     "metadata": {},
     "output_type": "execute_result"
    }
   ],
   "source": [
    "100-11.869077265665236"
   ]
  },
  {
   "cell_type": "code",
   "execution_count": 89,
   "metadata": {},
   "outputs": [],
   "source": [
    "z=c/r*(1-1/(1+r/2)**(2*n))+M/(1+r/2)**(2*n)"
   ]
  },
  {
   "cell_type": "code",
   "execution_count": 90,
   "metadata": {},
   "outputs": [
    {
     "data": {
      "text/plain": [
       "array([100.        ,  99.12220569,  98.25361986,  97.39413484,\n",
       "        96.54364434,  95.70204344,  94.86922855,  94.04509738,\n",
       "        93.22954897,  92.42248363,  91.62380292,  90.83340968,\n",
       "        90.05120794,  89.27710299,  88.51100128,  87.75281046,\n",
       "        87.00243932,  86.25979785,  85.52479711,  84.79734932,\n",
       "        84.07736779,  83.36476692,  82.65946218,  81.9613701 ,\n",
       "        81.27040825,  80.58649523,  79.90955067,  79.23949518,\n",
       "        78.57625038,  77.91973885])"
      ]
     },
     "execution_count": 90,
     "metadata": {},
     "output_type": "execute_result"
    }
   ],
   "source": [
    "z "
   ]
  },
  {
   "cell_type": "code",
   "execution_count": null,
   "metadata": {},
   "outputs": [],
   "source": [
    "a b x y=sp.symbols('a b x y')\n",
    "y=a*x+b "
   ]
  }
 ],
 "metadata": {
  "kernelspec": {
   "display_name": "Python 3",
   "language": "python",
   "name": "python3"
  },
  "language_info": {
   "codemirror_mode": {
    "name": "ipython",
    "version": 3
   },
   "file_extension": ".py",
   "mimetype": "text/x-python",
   "name": "python",
   "nbconvert_exporter": "python",
   "pygments_lexer": "ipython3",
   "version": "3.7.3"
  }
 },
 "nbformat": 4,
 "nbformat_minor": 2
}
